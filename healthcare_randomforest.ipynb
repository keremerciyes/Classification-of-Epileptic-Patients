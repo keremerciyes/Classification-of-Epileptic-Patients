{
  "cells": [
    {
      "cell_type": "code",
      "execution_count": null,
      "id": "kUimTDPOMD4P",
      "metadata": {
        "id": "kUimTDPOMD4P"
      },
      "outputs": [],
      "source": [
        "import pandas as pd\n",
        "import numpy as np\n",
        "import matplotlib.pyplot as plt\n",
        "\n",
        "from sklearn import svm\n",
        "from sklearn.svm import SVC\n",
        "from sklearn.model_selection import cross_val_score, StratifiedKFold\n",
        "from sklearn.metrics import accuracy_score, precision_score, recall_score, f1_score\n",
        "from sklearn.metrics import confusion_matrix, classification_report\n",
        "\n",
        "from sklearn.model_selection import train_test_split, GridSearchCV, cross_val_score, KFold\n",
        "from sklearn.feature_selection import VarianceThreshold\n",
        "from sklearn.decomposition import PCA\n",
        "from sklearn.feature_selection import SelectKBest, f_classif, mutual_info_classif\n",
        "from scipy import stats\n",
        "\n",
        "\n",
        "from google.colab import drive"
      ]
    },
    {
      "cell_type": "code",
      "execution_count": null,
      "id": "27y5PKm5_EdS",
      "metadata": {
        "colab": {
          "base_uri": "https://localhost:8080/"
        },
        "id": "27y5PKm5_EdS",
        "outputId": "9fe0b5d1-8a16-4d4a-cc2a-d3929760a8b0"
      },
      "outputs": [
        {
          "name": "stdout",
          "output_type": "stream",
          "text": [
            "Mounted at /content/drive\n"
          ]
        }
      ],
      "source": [
        "drive.mount('/content/drive')"
      ]
    },
    {
      "cell_type": "markdown",
      "id": "Pyfr8RHM9j0a",
      "metadata": {
        "id": "Pyfr8RHM9j0a"
      },
      "source": [
        "# **DATA UPLOAD**"
      ]
    },
    {
      "cell_type": "code",
      "execution_count": null,
      "id": "d279bd56",
      "metadata": {
        "id": "d279bd56"
      },
      "outputs": [],
      "source": [
        "df = pd.read_csv('/content/drive/MyDrive/Colab Health/EEG-data.csv')\n",
        "\n",
        "\n",
        "df_3 = df[(df[\"y\"] == 3)]\n",
        "df_3 = df_3.drop(['y', 'Unnamed: 0'], axis=1)\n",
        "\n",
        "df_4 = df[(df[\"y\"] == 4)]\n",
        "df_4 = df_4.drop(['y', 'Unnamed: 0'], axis=1)\n"
      ]
    },
    {
      "cell_type": "markdown",
      "id": "aO63y-ucMSOV",
      "metadata": {
        "id": "aO63y-ucMSOV"
      },
      "source": []
    },
    {
      "cell_type": "code",
      "execution_count": null,
      "id": "45bf3d12",
      "metadata": {
        "id": "45bf3d12"
      },
      "outputs": [],
      "source": [
        "# Mean and standard deviation\n",
        "df_3_mean = df_3.mean()\n",
        "df_4_mean = df_4.mean()\n",
        "\n",
        "df_3_sd = df_3.std()\n",
        "df_4_sd = df_4.std()\n"
      ]
    },
    {
      "cell_type": "markdown",
      "id": "qiCRL91v996V",
      "metadata": {
        "id": "qiCRL91v996V"
      },
      "source": [
        "# NORMALIZATION"
      ]
    },
    {
      "cell_type": "code",
      "execution_count": null,
      "id": "NtstcKITWBBQ",
      "metadata": {
        "colab": {
          "base_uri": "https://localhost:8080/",
          "height": 256
        },
        "id": "NtstcKITWBBQ",
        "outputId": "396d19a0-cada-481a-dde8-e46bd096666c"
      },
      "outputs": [
        {
          "data": {
            "application/vnd.google.colaboratory.intrinsic+json": {
              "type": "dataframe",
              "variable_name": "df_3_normalized"
            },
            "text/html": [
              "\n",
              "  <div id=\"df-f1d9c6c5-20dd-44c0-973f-74bc5c3a0fb4\" class=\"colab-df-container\">\n",
              "    <div>\n",
              "<style scoped>\n",
              "    .dataframe tbody tr th:only-of-type {\n",
              "        vertical-align: middle;\n",
              "    }\n",
              "\n",
              "    .dataframe tbody tr th {\n",
              "        vertical-align: top;\n",
              "    }\n",
              "\n",
              "    .dataframe thead th {\n",
              "        text-align: right;\n",
              "    }\n",
              "</style>\n",
              "<table border=\"1\" class=\"dataframe\">\n",
              "  <thead>\n",
              "    <tr style=\"text-align: right;\">\n",
              "      <th></th>\n",
              "      <th>X1</th>\n",
              "      <th>X2</th>\n",
              "      <th>X3</th>\n",
              "      <th>X4</th>\n",
              "      <th>X5</th>\n",
              "      <th>X6</th>\n",
              "      <th>X7</th>\n",
              "      <th>X8</th>\n",
              "      <th>X9</th>\n",
              "      <th>X10</th>\n",
              "      <th>...</th>\n",
              "      <th>X4085</th>\n",
              "      <th>X4086</th>\n",
              "      <th>X4087</th>\n",
              "      <th>X4088</th>\n",
              "      <th>X4089</th>\n",
              "      <th>X4090</th>\n",
              "      <th>X4091</th>\n",
              "      <th>X4092</th>\n",
              "      <th>X4093</th>\n",
              "      <th>X4094</th>\n",
              "    </tr>\n",
              "  </thead>\n",
              "  <tbody>\n",
              "    <tr>\n",
              "      <th>3</th>\n",
              "      <td>0.957774</td>\n",
              "      <td>0.873880</td>\n",
              "      <td>0.850431</td>\n",
              "      <td>0.688030</td>\n",
              "      <td>0.645989</td>\n",
              "      <td>0.583219</td>\n",
              "      <td>0.417711</td>\n",
              "      <td>0.356205</td>\n",
              "      <td>0.287070</td>\n",
              "      <td>0.242536</td>\n",
              "      <td>...</td>\n",
              "      <td>-0.288536</td>\n",
              "      <td>-0.318160</td>\n",
              "      <td>-0.319831</td>\n",
              "      <td>-0.261575</td>\n",
              "      <td>-0.139497</td>\n",
              "      <td>-0.094118</td>\n",
              "      <td>-0.088173</td>\n",
              "      <td>-0.093367</td>\n",
              "      <td>-0.104557</td>\n",
              "      <td>0.041719</td>\n",
              "    </tr>\n",
              "    <tr>\n",
              "      <th>9</th>\n",
              "      <td>1.273546</td>\n",
              "      <td>1.198672</td>\n",
              "      <td>1.145848</td>\n",
              "      <td>1.088789</td>\n",
              "      <td>1.208349</td>\n",
              "      <td>1.281577</td>\n",
              "      <td>1.304194</td>\n",
              "      <td>1.088989</td>\n",
              "      <td>1.020459</td>\n",
              "      <td>0.794133</td>\n",
              "      <td>...</td>\n",
              "      <td>-0.036319</td>\n",
              "      <td>-0.090270</td>\n",
              "      <td>-0.277300</td>\n",
              "      <td>-0.533106</td>\n",
              "      <td>-0.788686</td>\n",
              "      <td>-0.829417</td>\n",
              "      <td>-0.683713</td>\n",
              "      <td>-0.585668</td>\n",
              "      <td>-0.392495</td>\n",
              "      <td>-0.301423</td>\n",
              "    </tr>\n",
              "    <tr>\n",
              "      <th>10</th>\n",
              "      <td>-0.325047</td>\n",
              "      <td>-0.406180</td>\n",
              "      <td>-0.331236</td>\n",
              "      <td>-0.259218</td>\n",
              "      <td>-0.279185</td>\n",
              "      <td>-0.168859</td>\n",
              "      <td>-0.167368</td>\n",
              "      <td>-0.036997</td>\n",
              "      <td>0.112453</td>\n",
              "      <td>0.142245</td>\n",
              "      <td>...</td>\n",
              "      <td>0.354617</td>\n",
              "      <td>0.340190</td>\n",
              "      <td>0.374837</td>\n",
              "      <td>0.341827</td>\n",
              "      <td>0.351354</td>\n",
              "      <td>0.445101</td>\n",
              "      <td>0.441196</td>\n",
              "      <td>0.449861</td>\n",
              "      <td>0.435326</td>\n",
              "      <td>0.330680</td>\n",
              "    </tr>\n",
              "    <tr>\n",
              "      <th>17</th>\n",
              "      <td>0.997246</td>\n",
              "      <td>1.084039</td>\n",
              "      <td>1.238165</td>\n",
              "      <td>1.343818</td>\n",
              "      <td>1.371615</td>\n",
              "      <td>1.406924</td>\n",
              "      <td>1.428302</td>\n",
              "      <td>1.464318</td>\n",
              "      <td>1.334769</td>\n",
              "      <td>1.228725</td>\n",
              "      <td>...</td>\n",
              "      <td>0.695110</td>\n",
              "      <td>0.568080</td>\n",
              "      <td>0.488253</td>\n",
              "      <td>0.417253</td>\n",
              "      <td>0.303852</td>\n",
              "      <td>0.265361</td>\n",
              "      <td>0.126883</td>\n",
              "      <td>0.076391</td>\n",
              "      <td>0.057408</td>\n",
              "      <td>0.005599</td>\n",
              "    </tr>\n",
              "    <tr>\n",
              "      <th>22</th>\n",
              "      <td>-1.765755</td>\n",
              "      <td>-1.628925</td>\n",
              "      <td>-1.420585</td>\n",
              "      <td>-1.242899</td>\n",
              "      <td>-1.222498</td>\n",
              "      <td>-1.189537</td>\n",
              "      <td>-1.195688</td>\n",
              "      <td>-1.234474</td>\n",
              "      <td>-1.074939</td>\n",
              "      <td>-0.877374</td>\n",
              "      <td>...</td>\n",
              "      <td>0.203287</td>\n",
              "      <td>0.137621</td>\n",
              "      <td>0.034592</td>\n",
              "      <td>-0.065469</td>\n",
              "      <td>-0.218666</td>\n",
              "      <td>-0.420917</td>\n",
              "      <td>-0.600999</td>\n",
              "      <td>-0.602643</td>\n",
              "      <td>-0.482476</td>\n",
              "      <td>-0.626505</td>\n",
              "    </tr>\n",
              "  </tbody>\n",
              "</table>\n",
              "<p>5 rows × 4094 columns</p>\n",
              "</div>\n",
              "    <div class=\"colab-df-buttons\">\n",
              "\n",
              "  <div class=\"colab-df-container\">\n",
              "    <button class=\"colab-df-convert\" onclick=\"convertToInteractive('df-f1d9c6c5-20dd-44c0-973f-74bc5c3a0fb4')\"\n",
              "            title=\"Convert this dataframe to an interactive table.\"\n",
              "            style=\"display:none;\">\n",
              "\n",
              "  <svg xmlns=\"http://www.w3.org/2000/svg\" height=\"24px\" viewBox=\"0 -960 960 960\">\n",
              "    <path d=\"M120-120v-720h720v720H120Zm60-500h600v-160H180v160Zm220 220h160v-160H400v160Zm0 220h160v-160H400v160ZM180-400h160v-160H180v160Zm440 0h160v-160H620v160ZM180-180h160v-160H180v160Zm440 0h160v-160H620v160Z\"/>\n",
              "  </svg>\n",
              "    </button>\n",
              "\n",
              "  <style>\n",
              "    .colab-df-container {\n",
              "      display:flex;\n",
              "      gap: 12px;\n",
              "    }\n",
              "\n",
              "    .colab-df-convert {\n",
              "      background-color: #E8F0FE;\n",
              "      border: none;\n",
              "      border-radius: 50%;\n",
              "      cursor: pointer;\n",
              "      display: none;\n",
              "      fill: #1967D2;\n",
              "      height: 32px;\n",
              "      padding: 0 0 0 0;\n",
              "      width: 32px;\n",
              "    }\n",
              "\n",
              "    .colab-df-convert:hover {\n",
              "      background-color: #E2EBFA;\n",
              "      box-shadow: 0px 1px 2px rgba(60, 64, 67, 0.3), 0px 1px 3px 1px rgba(60, 64, 67, 0.15);\n",
              "      fill: #174EA6;\n",
              "    }\n",
              "\n",
              "    .colab-df-buttons div {\n",
              "      margin-bottom: 4px;\n",
              "    }\n",
              "\n",
              "    [theme=dark] .colab-df-convert {\n",
              "      background-color: #3B4455;\n",
              "      fill: #D2E3FC;\n",
              "    }\n",
              "\n",
              "    [theme=dark] .colab-df-convert:hover {\n",
              "      background-color: #434B5C;\n",
              "      box-shadow: 0px 1px 3px 1px rgba(0, 0, 0, 0.15);\n",
              "      filter: drop-shadow(0px 1px 2px rgba(0, 0, 0, 0.3));\n",
              "      fill: #FFFFFF;\n",
              "    }\n",
              "  </style>\n",
              "\n",
              "    <script>\n",
              "      const buttonEl =\n",
              "        document.querySelector('#df-f1d9c6c5-20dd-44c0-973f-74bc5c3a0fb4 button.colab-df-convert');\n",
              "      buttonEl.style.display =\n",
              "        google.colab.kernel.accessAllowed ? 'block' : 'none';\n",
              "\n",
              "      async function convertToInteractive(key) {\n",
              "        const element = document.querySelector('#df-f1d9c6c5-20dd-44c0-973f-74bc5c3a0fb4');\n",
              "        const dataTable =\n",
              "          await google.colab.kernel.invokeFunction('convertToInteractive',\n",
              "                                                    [key], {});\n",
              "        if (!dataTable) return;\n",
              "\n",
              "        const docLinkHtml = 'Like what you see? Visit the ' +\n",
              "          '<a target=\"_blank\" href=https://colab.research.google.com/notebooks/data_table.ipynb>data table notebook</a>'\n",
              "          + ' to learn more about interactive tables.';\n",
              "        element.innerHTML = '';\n",
              "        dataTable['output_type'] = 'display_data';\n",
              "        await google.colab.output.renderOutput(dataTable, element);\n",
              "        const docLink = document.createElement('div');\n",
              "        docLink.innerHTML = docLinkHtml;\n",
              "        element.appendChild(docLink);\n",
              "      }\n",
              "    </script>\n",
              "  </div>\n",
              "\n",
              "\n",
              "<div id=\"df-8d404fe1-1173-40ec-9350-cf7e09c2590d\">\n",
              "  <button class=\"colab-df-quickchart\" onclick=\"quickchart('df-8d404fe1-1173-40ec-9350-cf7e09c2590d')\"\n",
              "            title=\"Suggest charts\"\n",
              "            style=\"display:none;\">\n",
              "\n",
              "<svg xmlns=\"http://www.w3.org/2000/svg\" height=\"24px\"viewBox=\"0 0 24 24\"\n",
              "     width=\"24px\">\n",
              "    <g>\n",
              "        <path d=\"M19 3H5c-1.1 0-2 .9-2 2v14c0 1.1.9 2 2 2h14c1.1 0 2-.9 2-2V5c0-1.1-.9-2-2-2zM9 17H7v-7h2v7zm4 0h-2V7h2v10zm4 0h-2v-4h2v4z\"/>\n",
              "    </g>\n",
              "</svg>\n",
              "  </button>\n",
              "\n",
              "<style>\n",
              "  .colab-df-quickchart {\n",
              "      --bg-color: #E8F0FE;\n",
              "      --fill-color: #1967D2;\n",
              "      --hover-bg-color: #E2EBFA;\n",
              "      --hover-fill-color: #174EA6;\n",
              "      --disabled-fill-color: #AAA;\n",
              "      --disabled-bg-color: #DDD;\n",
              "  }\n",
              "\n",
              "  [theme=dark] .colab-df-quickchart {\n",
              "      --bg-color: #3B4455;\n",
              "      --fill-color: #D2E3FC;\n",
              "      --hover-bg-color: #434B5C;\n",
              "      --hover-fill-color: #FFFFFF;\n",
              "      --disabled-bg-color: #3B4455;\n",
              "      --disabled-fill-color: #666;\n",
              "  }\n",
              "\n",
              "  .colab-df-quickchart {\n",
              "    background-color: var(--bg-color);\n",
              "    border: none;\n",
              "    border-radius: 50%;\n",
              "    cursor: pointer;\n",
              "    display: none;\n",
              "    fill: var(--fill-color);\n",
              "    height: 32px;\n",
              "    padding: 0;\n",
              "    width: 32px;\n",
              "  }\n",
              "\n",
              "  .colab-df-quickchart:hover {\n",
              "    background-color: var(--hover-bg-color);\n",
              "    box-shadow: 0 1px 2px rgba(60, 64, 67, 0.3), 0 1px 3px 1px rgba(60, 64, 67, 0.15);\n",
              "    fill: var(--button-hover-fill-color);\n",
              "  }\n",
              "\n",
              "  .colab-df-quickchart-complete:disabled,\n",
              "  .colab-df-quickchart-complete:disabled:hover {\n",
              "    background-color: var(--disabled-bg-color);\n",
              "    fill: var(--disabled-fill-color);\n",
              "    box-shadow: none;\n",
              "  }\n",
              "\n",
              "  .colab-df-spinner {\n",
              "    border: 2px solid var(--fill-color);\n",
              "    border-color: transparent;\n",
              "    border-bottom-color: var(--fill-color);\n",
              "    animation:\n",
              "      spin 1s steps(1) infinite;\n",
              "  }\n",
              "\n",
              "  @keyframes spin {\n",
              "    0% {\n",
              "      border-color: transparent;\n",
              "      border-bottom-color: var(--fill-color);\n",
              "      border-left-color: var(--fill-color);\n",
              "    }\n",
              "    20% {\n",
              "      border-color: transparent;\n",
              "      border-left-color: var(--fill-color);\n",
              "      border-top-color: var(--fill-color);\n",
              "    }\n",
              "    30% {\n",
              "      border-color: transparent;\n",
              "      border-left-color: var(--fill-color);\n",
              "      border-top-color: var(--fill-color);\n",
              "      border-right-color: var(--fill-color);\n",
              "    }\n",
              "    40% {\n",
              "      border-color: transparent;\n",
              "      border-right-color: var(--fill-color);\n",
              "      border-top-color: var(--fill-color);\n",
              "    }\n",
              "    60% {\n",
              "      border-color: transparent;\n",
              "      border-right-color: var(--fill-color);\n",
              "    }\n",
              "    80% {\n",
              "      border-color: transparent;\n",
              "      border-right-color: var(--fill-color);\n",
              "      border-bottom-color: var(--fill-color);\n",
              "    }\n",
              "    90% {\n",
              "      border-color: transparent;\n",
              "      border-bottom-color: var(--fill-color);\n",
              "    }\n",
              "  }\n",
              "</style>\n",
              "\n",
              "  <script>\n",
              "    async function quickchart(key) {\n",
              "      const quickchartButtonEl =\n",
              "        document.querySelector('#' + key + ' button');\n",
              "      quickchartButtonEl.disabled = true;  // To prevent multiple clicks.\n",
              "      quickchartButtonEl.classList.add('colab-df-spinner');\n",
              "      try {\n",
              "        const charts = await google.colab.kernel.invokeFunction(\n",
              "            'suggestCharts', [key], {});\n",
              "      } catch (error) {\n",
              "        console.error('Error during call to suggestCharts:', error);\n",
              "      }\n",
              "      quickchartButtonEl.classList.remove('colab-df-spinner');\n",
              "      quickchartButtonEl.classList.add('colab-df-quickchart-complete');\n",
              "    }\n",
              "    (() => {\n",
              "      let quickchartButtonEl =\n",
              "        document.querySelector('#df-8d404fe1-1173-40ec-9350-cf7e09c2590d button');\n",
              "      quickchartButtonEl.style.display =\n",
              "        google.colab.kernel.accessAllowed ? 'block' : 'none';\n",
              "    })();\n",
              "  </script>\n",
              "</div>\n",
              "    </div>\n",
              "  </div>\n"
            ],
            "text/plain": [
              "          X1        X2        X3        X4        X5        X6        X7  \\\n",
              "3   0.957774  0.873880  0.850431  0.688030  0.645989  0.583219  0.417711   \n",
              "9   1.273546  1.198672  1.145848  1.088789  1.208349  1.281577  1.304194   \n",
              "10 -0.325047 -0.406180 -0.331236 -0.259218 -0.279185 -0.168859 -0.167368   \n",
              "17  0.997246  1.084039  1.238165  1.343818  1.371615  1.406924  1.428302   \n",
              "22 -1.765755 -1.628925 -1.420585 -1.242899 -1.222498 -1.189537 -1.195688   \n",
              "\n",
              "          X8        X9       X10  ...     X4085     X4086     X4087     X4088  \\\n",
              "3   0.356205  0.287070  0.242536  ... -0.288536 -0.318160 -0.319831 -0.261575   \n",
              "9   1.088989  1.020459  0.794133  ... -0.036319 -0.090270 -0.277300 -0.533106   \n",
              "10 -0.036997  0.112453  0.142245  ...  0.354617  0.340190  0.374837  0.341827   \n",
              "17  1.464318  1.334769  1.228725  ...  0.695110  0.568080  0.488253  0.417253   \n",
              "22 -1.234474 -1.074939 -0.877374  ...  0.203287  0.137621  0.034592 -0.065469   \n",
              "\n",
              "       X4089     X4090     X4091     X4092     X4093     X4094  \n",
              "3  -0.139497 -0.094118 -0.088173 -0.093367 -0.104557  0.041719  \n",
              "9  -0.788686 -0.829417 -0.683713 -0.585668 -0.392495 -0.301423  \n",
              "10  0.351354  0.445101  0.441196  0.449861  0.435326  0.330680  \n",
              "17  0.303852  0.265361  0.126883  0.076391  0.057408  0.005599  \n",
              "22 -0.218666 -0.420917 -0.600999 -0.602643 -0.482476 -0.626505  \n",
              "\n",
              "[5 rows x 4094 columns]"
            ]
          },
          "execution_count": 5,
          "metadata": {},
          "output_type": "execute_result"
        }
      ],
      "source": [
        "# Step 2: Normalize the selected classes using z-score manually\n",
        "df_3_normalized = (df_3 - df_3.mean()) / df_3.std()\n",
        "df_4_normalized = (df_4 - df_4.mean()) / df_4.std()\n",
        "df_3_normalized.head()\n"
      ]
    },
    {
      "cell_type": "code",
      "execution_count": null,
      "id": "b4iKubC-5A8z",
      "metadata": {
        "id": "b4iKubC-5A8z"
      },
      "outputs": [],
      "source": [
        "train_ratio = 0.8\n",
        "train_df_3, test_df_3 = train_test_split(df_3_normalized, train_size=train_ratio, random_state=42)\n",
        "\n",
        "# Split df_4 into training and test sets\n",
        "train_df_4, test_df_4 = train_test_split(df_4_normalized, train_size=train_ratio, random_state=42)\n",
        "\n",
        "# Combine the training sets of df_3 and df_4\n",
        "train_df_combined = pd.concat([train_df_3, train_df_4], axis=1)\n",
        "\n",
        "# Combine the test sets of df_3 and df_4\n",
        "test_df_combined = pd.concat([test_df_3, test_df_4], axis=1)"
      ]
    },
    {
      "cell_type": "code",
      "execution_count": null,
      "id": "0AW5Nh_6GuVQ",
      "metadata": {
        "id": "0AW5Nh_6GuVQ"
      },
      "outputs": [],
      "source": [
        "train_df_4['y'] = 1\n",
        "train_df_3['y'] = 0\n",
        "\n",
        "# Merge the datasets\n",
        "result = [train_df_3, train_df_4]\n",
        "df_combined = pd.concat(result)\n",
        "df_combined\n",
        "\n",
        "test_df_4['y'] = 1\n",
        "test_df_3['y'] = 0\n",
        "result_test = [test_df_3, test_df_4]\n"
      ]
    },
    {
      "cell_type": "markdown",
      "id": "TPzF5cD-BNvI",
      "metadata": {
        "id": "TPzF5cD-BNvI"
      },
      "source": [
        "# DATA SPLIT"
      ]
    },
    {
      "cell_type": "code",
      "execution_count": null,
      "id": "da8a93da",
      "metadata": {
        "id": "da8a93da"
      },
      "outputs": [],
      "source": [
        "\n",
        "df_combined = df_combined.sample(frac=1, random_state=42).reset_index(drop=True)#shuffle\n",
        "\n",
        "X_train = df_combined.drop('y', axis=1)\n",
        "y_train = df_combined['y']\n",
        "\n",
        "\n",
        "x_test = pd.concat(result_test)\n",
        "x_test = x_test.sample(frac=1, random_state=42).reset_index(drop=True) #shuffle\n",
        "\n",
        "X_test=x_test.drop('y', axis=1)\n",
        "y_test= x_test['y']\n",
        "\n"
      ]
    },
    {
      "cell_type": "markdown",
      "id": "QnWa19wpBOVj",
      "metadata": {
        "id": "QnWa19wpBOVj"
      },
      "source": [
        "# TRAIN AND TEST"
      ]
    },
    {
      "cell_type": "code",
      "execution_count": null,
      "id": "ajrWUvp-p6PL",
      "metadata": {
        "colab": {
          "base_uri": "https://localhost:8080/",
          "height": 107
        },
        "id": "ajrWUvp-p6PL",
        "outputId": "4e0f43c5-5f60-44f2-c291-2a6a3e2b3f5f"
      },
      "outputs": [
        {
          "data": {
            "application/vnd.google.colaboratory.intrinsic+json": {
              "type": "string"
            },
            "text/plain": [
              "'\\nfrom sklearn.model_selection import GridSearchCV\\n\\n# Define the parameter grid\\nparam_grid = {\\n    \\'C\\': [0.1, 1, 10, 100, 1000],  # Example range for C\\n    \\'gamma\\': [1,0.5,0.1,0.05,0.01,0.005,0.001,0.0005,0.0001],  # Example range for gamma\\n    \\'kernel\\': [\\'linear\\', \\'poly\\', \\'rbf\\', \\'sigmoid\\']  # Kernel type\\n}\\n\\n# Create a SVC model instance\\nsvm_model = SVC(random_state=42)\\n\\n# Set up GridSearchCV\\ngrid_search = GridSearchCV(svm_model, param_grid, refit=True, verbose=3, cv=5)  # cv=5 for 5-fold cross-validation\\n\\n# Fit the model with data\\ngrid_search.fit(X_train, y_train)\\n\\n# Review the best parameters and score\\nprint(\"Best parameters found:\", grid_search.best_params_)\\nprint(\"Best cross-validation score:\", grid_search.best_score_)\\n'"
            ]
          },
          "execution_count": 9,
          "metadata": {},
          "output_type": "execute_result"
        }
      ],
      "source": [
        "\"\"\"\n",
        "from sklearn.model_selection import GridSearchCV\n",
        "\n",
        "# Define the parameter grid\n",
        "param_grid = {\n",
        "    'C': [0.1, 1, 10, 100, 1000],  # Example range for C\n",
        "    'gamma': [1,0.5,0.1,0.05,0.01,0.005,0.001,0.0005,0.0001],  # Example range for gamma\n",
        "    'kernel': ['linear', 'poly', 'rbf', 'sigmoid']  # Kernel type\n",
        "}\n",
        "\n",
        "# Create a SVC model instance\n",
        "svm_model = SVC(random_state=42)\n",
        "\n",
        "# Set up GridSearchCV\n",
        "grid_search = GridSearchCV(svm_model, param_grid, refit=True, verbose=3, cv=5)  # cv=5 for 5-fold cross-validation\n",
        "\n",
        "# Fit the model with data\n",
        "grid_search.fit(X_train, y_train)\n",
        "\n",
        "# Review the best parameters and score\n",
        "print(\"Best parameters found:\", grid_search.best_params_)\n",
        "print(\"Best cross-validation score:\", grid_search.best_score_)\n",
        "\"\"\""
      ]
    },
    {
      "cell_type": "code",
      "execution_count": null,
      "id": "saaAh30Op6yw",
      "metadata": {
        "colab": {
          "base_uri": "https://localhost:8080/"
        },
        "id": "saaAh30Op6yw",
        "outputId": "32eb5146-7446-48c7-9329-1c0c35372f4f"
      },
      "outputs": [
        {
          "name": "stdout",
          "output_type": "stream",
          "text": [
            "Cross-validation scores: [0.75    0.6875  0.59375 0.8125  0.625  ]\n",
            "Mean cross-validation accuracy: 0.69375\n",
            "Accuracy: 0.875\n",
            "Precision: 0.8836317135549873\n",
            "Recall: 0.875\n",
            "F1 Score: 0.8742928975487114\n",
            "[[16  4]\n",
            " [ 1 19]]\n",
            "Specificity: 0.8\n"
          ]
        }
      ],
      "source": [
        "#Best parameters found:  OrderedDict([('C', 1000000.0), ('gamma', 0.000570349311114605), ('kernel', 'rbf')])\n",
        "svm_classifier = svm.SVC(kernel='rbf', gamma = 0.0005, random_state=42)\n",
        "svm_classifier.fit(X_train, y_train)\n",
        "\n",
        "\n",
        "#  StratifiedKFold for cross-validation\n",
        "kfold = StratifiedKFold(n_splits=5, shuffle=True)\n",
        "\n",
        "cross_val_scores = cross_val_score(svm_classifier, X_train, y_train, cv=kfold, scoring='accuracy')\n",
        "print(\"Cross-validation scores:\", cross_val_scores)\n",
        "print(\"Mean cross-validation accuracy:\", cross_val_scores.mean())\n",
        "\n",
        "\n",
        "y_pred = svm_classifier.predict(X_test)\n",
        "\n",
        "\n",
        "accuracy = accuracy_score(y_test, y_pred)\n",
        "precision = precision_score(y_test, y_pred, average='weighted')\n",
        "recall = recall_score(y_test, y_pred, average='weighted')\n",
        "f1 = f1_score(y_test, y_pred, average='weighted')\n",
        "\n",
        "print(\"Accuracy:\", accuracy)\n",
        "print(\"Precision:\", precision)\n",
        "print(\"Recall:\", recall)\n",
        "print(\"F1 Score:\", f1)\n",
        "\n",
        "# Calculating specificity from the confusion matrix\n",
        "conf_matrix = confusion_matrix(y_test, y_pred)\n",
        "print(conf_matrix)\n",
        "TN = conf_matrix[0][0]\n",
        "FP = conf_matrix[0][1]\n",
        "FN = conf_matrix[1][0]\n",
        "TP = conf_matrix[1][1]\n",
        "specificity = TN / (TN + FP)\n",
        "print(f\"Specificity: {specificity}\")"
      ]
    },
    {
      "cell_type": "markdown",
      "id": "9E64TvQ0Bf83",
      "metadata": {
        "id": "9E64TvQ0Bf83"
      },
      "source": [
        "# OUTLIER DETECTION"
      ]
    },
    {
      "cell_type": "code",
      "execution_count": null,
      "id": "iFfLGx6VOQsv",
      "metadata": {
        "colab": {
          "base_uri": "https://localhost:8080/"
        },
        "id": "iFfLGx6VOQsv",
        "outputId": "a4ad87e4-feb6-443c-92d4-77f8fd76c89a"
      },
      "outputs": [
        {
          "name": "stdout",
          "output_type": "stream",
          "text": [
            "4094\n"
          ]
        },
        {
          "data": {
            "text/plain": [
              "76"
            ]
          },
          "execution_count": 11,
          "metadata": {},
          "output_type": "execute_result"
        }
      ],
      "source": [
        "z_score_threshold = 2.5\n",
        "\n",
        "df_3_normalized = train_df_3.drop(['y'], axis=1)\n",
        "exceeds_threshold = np.abs(df_3_normalized) > z_score_threshold\n",
        "\n",
        "# Calculate the number of features exceeding the threshold in each row\n",
        "num_exceeding_per_row = np.sum(exceeds_threshold, axis=1)\n",
        "\n",
        "# Total number of features\n",
        "total_features = df_3_normalized.shape[1]\n",
        "print(total_features)\n",
        "\n",
        "# Calculate the 70% threshold of total features for comparison\n",
        "features_threshold = 250\n",
        "\n",
        "# Identify rows where the number of features exceeding the threshold is less than 80% of total features\n",
        "rows_to_keep = num_exceeding_per_row < features_threshold\n",
        "\n",
        "# Keep these rows, effectively removing the ones where 70% or more of the values exceed the threshold\n",
        "filtered_data = df_3_normalized[rows_to_keep]\n",
        "\n",
        "#filtered_data = pd.DataFtame(filtered_data) #convert pandas dataframe\n",
        "\n",
        "# Output the dimensions of the original and filtered datasets for comparison\n",
        "filtered_row_count = filtered_data.shape[0]\n",
        "\n",
        "filtered_row_count"
      ]
    },
    {
      "cell_type": "code",
      "execution_count": null,
      "id": "nmzviy5MO_8L",
      "metadata": {
        "colab": {
          "base_uri": "https://localhost:8080/"
        },
        "id": "nmzviy5MO_8L",
        "outputId": "9c163fbe-9515-4a79-badd-6500e4c130e7"
      },
      "outputs": [
        {
          "name": "stdout",
          "output_type": "stream",
          "text": [
            "4094\n"
          ]
        },
        {
          "data": {
            "text/plain": [
              "75"
            ]
          },
          "execution_count": 33,
          "metadata": {},
          "output_type": "execute_result"
        }
      ],
      "source": [
        "z_score_threshold = 2.5\n",
        "\n",
        "df_4_normalized = train_df_4.drop(['y'], axis=1)\n",
        "exceeds_threshold = np.abs(df_4_normalized) > z_score_threshold\n",
        "\n",
        "# Calculate the number of features exceeding the threshold in each row\n",
        "num_exceeding_per_row = np.sum(exceeds_threshold, axis=1)\n",
        "\n",
        "# Total number of features\n",
        "total_features = df_4_normalized.shape[1]\n",
        "print(total_features)\n",
        "\n",
        "# Calculate the 70% threshold of total features for comparison\n",
        "features_70_percent_threshold = 250\n",
        "\n",
        "# Identify rows where the number of features exceeding the threshold is less than 80% of total features\n",
        "rows_to_keep_2 = num_exceeding_per_row < features_70_percent_threshold\n",
        "\n",
        "# Keep these rows, effectively removing the ones where 70% or more of the values exceed the threshold\n",
        "filtered_data_2 = df_4_normalized[rows_to_keep_2]\n",
        "\n",
        "#filtered_data = pd.DataFtame(filtered_data) #convert pandas dataframe\n",
        "\n",
        "# Output the dimensions of the original and filtered datasets for comparison\n",
        "filtered_row_count_2 = filtered_data_2.shape[0]\n",
        "\n",
        "filtered_row_count_2"
      ]
    },
    {
      "cell_type": "code",
      "execution_count": null,
      "id": "WhfjhrzuPGy9",
      "metadata": {
        "colab": {
          "base_uri": "https://localhost:8080/"
        },
        "id": "WhfjhrzuPGy9",
        "outputId": "11bb4e1f-5af8-4e52-958c-b451a974183e"
      },
      "outputs": [
        {
          "name": "stderr",
          "output_type": "stream",
          "text": [
            "<ipython-input-13-2e296900b823>:1: SettingWithCopyWarning: \n",
            "A value is trying to be set on a copy of a slice from a DataFrame.\n",
            "Try using .loc[row_indexer,col_indexer] = value instead\n",
            "\n",
            "See the caveats in the documentation: https://pandas.pydata.org/pandas-docs/stable/user_guide/indexing.html#returning-a-view-versus-a-copy\n",
            "  filtered_data['y'] = 0 #DF 3\n",
            "<ipython-input-13-2e296900b823>:2: SettingWithCopyWarning: \n",
            "A value is trying to be set on a copy of a slice from a DataFrame.\n",
            "Try using .loc[row_indexer,col_indexer] = value instead\n",
            "\n",
            "See the caveats in the documentation: https://pandas.pydata.org/pandas-docs/stable/user_guide/indexing.html#returning-a-view-versus-a-copy\n",
            "  filtered_data_2['y'] = 1 #df 4\n"
          ]
        }
      ],
      "source": [
        "filtered_data['y'] = 0 #DF 3\n",
        "filtered_data_2['y'] = 1 #df 4\n",
        "\n",
        "\n",
        "#merge the datasets\n",
        "result = [filtered_data, filtered_data_2]\n",
        "df_combined = pd.concat(result)\n",
        "\n",
        "\n",
        "df_cleaned = df_combined.sample(frac=1, random_state=42).reset_index(drop=True) #shuffle\n",
        "\n",
        "y_train_cleaned= df_cleaned['y']\n",
        "X_train_cleaned=df_cleaned.drop('y', axis=1)\n",
        "\n",
        "\n"
      ]
    },
    {
      "cell_type": "markdown",
      "id": "laWhYFJzRJDi",
      "metadata": {
        "id": "laWhYFJzRJDi"
      },
      "source": [
        "# CLEANED DATA MODEL EVALUATION"
      ]
    },
    {
      "cell_type": "code",
      "execution_count": null,
      "id": "m9g_wB4aP7VM",
      "metadata": {
        "colab": {
          "base_uri": "https://localhost:8080/",
          "height": 125
        },
        "id": "m9g_wB4aP7VM",
        "outputId": "4f485e00-73d9-4c2a-bf47-4782b6805fb5"
      },
      "outputs": [
        {
          "data": {
            "application/vnd.google.colaboratory.intrinsic+json": {
              "type": "string"
            },
            "text/plain": [
              "'from sklearn.model_selection import GridSearchCV\\n\\n# Define the parameter grid\\nparam_grid = {\\n    \\'C\\': [0.1, 1, 10, 100, 1000],  # Example range for C\\n    \\'gamma\\': [1,0.5,0.1,0.05,0.01,0.005,0.001,0.0005,0.0001],  # Example range for gamma\\n    \\'kernel\\': [\\'linear\\', \\'poly\\', \\'rbf\\', \\'sigmoid\\'],  # Kernel type\\n}\\n\\n# Create a SVC model instance\\nsvm_model = SVC(random_state=42)\\n\\n# Set up GridSearchCV\\ngrid_search = GridSearchCV(svm_model, param_grid, refit=True, verbose=3, cv=5)  # cv=5 for 5-fold cross-validation\\n\\n# Fit the model with data\\ngrid_search.fit(X_train_cleaned, y_train_cleaned)\\n\\n# Review the best parameters and score\\nprint(\"Best parameters found:\", grid_search.best_params_)\\nprint(\"Best cross-validation score:\", grid_search.best_score_)\\n'"
            ]
          },
          "execution_count": 14,
          "metadata": {},
          "output_type": "execute_result"
        }
      ],
      "source": [
        "\"\"\"from sklearn.model_selection import GridSearchCV\n",
        "\n",
        "# Define the parameter grid\n",
        "param_grid = {\n",
        "    'C': [0.1, 1, 10, 100, 1000],  # Example range for C\n",
        "    'gamma': [1,0.5,0.1,0.05,0.01,0.005,0.001,0.0005,0.0001],  # Example range for gamma\n",
        "    'kernel': ['linear', 'poly', 'rbf', 'sigmoid'],  # Kernel type\n",
        "}\n",
        "\n",
        "# Create a SVC model instance\n",
        "svm_model = SVC(random_state=42)\n",
        "\n",
        "# Set up GridSearchCV\n",
        "grid_search = GridSearchCV(svm_model, param_grid, refit=True, verbose=3, cv=5)  # cv=5 for 5-fold cross-validation\n",
        "\n",
        "# Fit the model with data\n",
        "grid_search.fit(X_train_cleaned, y_train_cleaned)\n",
        "\n",
        "# Review the best parameters and score\n",
        "print(\"Best parameters found:\", grid_search.best_params_)\n",
        "print(\"Best cross-validation score:\", grid_search.best_score_)\n",
        "\"\"\""
      ]
    },
    {
      "cell_type": "code",
      "execution_count": null,
      "id": "8QdHHsfaQElQ",
      "metadata": {
        "colab": {
          "base_uri": "https://localhost:8080/"
        },
        "id": "8QdHHsfaQElQ",
        "outputId": "0386689c-0398-494b-b9bb-d0f8a4cfe8e5"
      },
      "outputs": [
        {
          "name": "stdout",
          "output_type": "stream",
          "text": [
            "Cross-validation scores: [0.74193548 0.7        0.7        0.5        0.8       ]\n",
            "Mean cross-validation accuracy: 0.6883870967741934\n",
            "Accuracy: 0.9\n",
            "Precision: 0.9040404040404042\n",
            "Recall: 0.9\n",
            "F1 Score: 0.8997493734335841\n",
            "[[17  3]\n",
            " [ 1 19]]\n",
            "Specificity: 0.85\n"
          ]
        }
      ],
      "source": [
        "#Best parameters found:  OrderedDict([('C', 1000000.0), ('gamma', 0.000570349311114605), ('kernel', 'rbf')])\n",
        "svm_classifier = svm.SVC(kernel='rbf', C= 10, gamma=0.0005, random_state=42)\n",
        "svm_classifier.fit(X_train_cleaned, y_train_cleaned)\n",
        "\n",
        "\n",
        "#  StratifiedKFold for cross-validation\n",
        "kfold = StratifiedKFold(n_splits=5, shuffle=True)\n",
        "\n",
        "cross_val_scores = cross_val_score(svm_classifier, X_train_cleaned, y_train_cleaned, cv=kfold, scoring='accuracy')\n",
        "print(\"Cross-validation scores:\", cross_val_scores)\n",
        "print(\"Mean cross-validation accuracy:\", cross_val_scores.mean())\n",
        "\n",
        "\n",
        "y_pred = svm_classifier.predict(X_test)\n",
        "\n",
        "\n",
        "accuracy = accuracy_score(y_test, y_pred)\n",
        "precision = precision_score(y_test, y_pred, average='weighted')\n",
        "recall = recall_score(y_test, y_pred, average='weighted')\n",
        "f1 = f1_score(y_test, y_pred, average='weighted')\n",
        "\n",
        "print(\"Accuracy:\", accuracy)\n",
        "print(\"Precision:\", precision)\n",
        "print(\"Recall:\", recall)\n",
        "print(\"F1 Score:\", f1)\n",
        "\n",
        "# Calculating specificity from the confusion matrix\n",
        "conf_matrix = confusion_matrix(y_test, y_pred)\n",
        "print(conf_matrix)\n",
        "TN = conf_matrix[0][0]\n",
        "FP = conf_matrix[0][1]\n",
        "FN = conf_matrix[1][0]\n",
        "TP = conf_matrix[1][1]\n",
        "specificity = TN / (TN + FP)\n",
        "print(f\"Specificity: {specificity}\")"
      ]
    },
    {
      "cell_type": "code",
      "execution_count": null,
      "id": "H3OO2CxQK3BP",
      "metadata": {
        "colab": {
          "base_uri": "https://localhost:8080/",
          "height": 564
        },
        "id": "H3OO2CxQK3BP",
        "outputId": "81f0b272-6397-408f-bbca-5d5c7a65345e"
      },
      "outputs": [
        {
          "data": {
            "image/png": "[encoded data removed]",
            "text/plain": [
              "<Figure size 800x600 with 2 Axes>"
            ]
          },
          "metadata": {},
          "output_type": "display_data"
        }
      ],
      "source": [
        "conf_matrix_percent = conf_matrix / conf_matrix.sum(axis=1)[:, np.newaxis] * 100\n",
        "\n",
        "# Plotting the confusion matrix as a heatmap with percentages\n",
        "plt.figure(figsize=(8, 6))\n",
        "sns.heatmap(conf_matrix_percent, annot=True, cmap='Blues', fmt='.2f')\n",
        "plt.xlabel('Predicted labels')\n",
        "plt.ylabel('True labels')\n",
        "plt.title('Confusion Matrix (Percentages)')\n",
        "plt.show()"
      ]
    },
    {
      "cell_type": "markdown",
      "id": "xqMbQq79PTqF",
      "metadata": {
        "id": "xqMbQq79PTqF"
      },
      "source": [
        "## FEATURE SELECTION"
      ]
    },
    {
      "cell_type": "code",
      "execution_count": null,
      "id": "maCVzMNESSTR",
      "metadata": {
        "colab": {
          "base_uri": "https://localhost:8080/"
        },
        "id": "maCVzMNESSTR",
        "outputId": "d70832f4-aadc-41bd-eec5-3492f840c882"
      },
      "outputs": [
        {
          "name": "stdout",
          "output_type": "stream",
          "text": [
            "Best Hyperparameters: {'C': 10, 'gamma': 0.001, 'kernel': 'rbf'}\n",
            "Accuracy: 0.825\n",
            "Accuracy: 0.825\n",
            "Sensitivity: 0.825\n",
            "Specificity: 0.85\n",
            "[[17  3]\n",
            " [ 4 16]]\n"
          ]
        }
      ],
      "source": [
        "from sklearn.decomposition import PCA\n",
        "from sklearn.pipeline import Pipeline\n",
        "from sklearn.model_selection import GridSearchCV\n",
        "\n",
        "from sklearn.decomposition import PCA\n",
        "from sklearn.model_selection import train_test_split, GridSearchCV\n",
        "from sklearn.svm import SVC\n",
        "from sklearn.metrics import classification_report\n",
        "\n",
        "# Apply PCA\n",
        "pca = PCA(n_components=0.95)  # Choose the number of components that explain at least 95% of the variance\n",
        "pca.fit(X_train_cleaned)\n",
        "\n",
        "# Transform both training and test data\n",
        "X_train_pca = pca.transform(X_train_cleaned)\n",
        "X_test_pca = pca.transform(X_test)\n",
        "\n",
        "# Define the parameter grid for GridSearchCV\n",
        "param_grid = {'C': [0.1, 1, 10, 100, 1000],  # Example range for C\n",
        "              'gamma': [1,0.5,0.1,0.05,0.01,0.005,0.001,0.0005,0.0001],  # Example range for gamma\n",
        "              'kernel': ['linear', 'poly', 'rbf', 'sigmoid'],  # Kernel type\n",
        "              }  # Example range for gamma}\n",
        "\n",
        "# Perform grid search with cross-validation\n",
        "svm_classifier = SVC()\n",
        "grid_search = GridSearchCV(svm_classifier, param_grid, cv=5)\n",
        "grid_search.fit(X_train_pca, y_train_cleaned)\n",
        "\n",
        "# Best hyperparameters\n",
        "best_params = grid_search.best_params_\n",
        "print(\"Best Hyperparameters:\", best_params)\n",
        "\n",
        "# Best SVM classifier\n",
        "best_svm = grid_search.best_estimator_\n",
        "\n",
        "# Evaluate the model\n",
        "accuracy = best_svm.score(X_test_pca, y_test)\n",
        "print(\"Accuracy:\", accuracy)\n",
        "\n",
        "# Get the prediction results\n",
        "y_pred = best_svm.predict(X_test_pca)\n",
        "\n",
        "accuracy = accuracy_score(y_test, y_pred)\n",
        "recall = recall_score(y_test, y_pred, average='weighted')\n",
        "\n",
        "\n",
        "print(\"Accuracy:\", accuracy)\n",
        "print(\"Sensitivity:\", recall)\n",
        "\n",
        "# Calculating specificity from the confusion matrix\n",
        "conf_matrix = confusion_matrix(y_test, y_pred)\n",
        "TN = conf_matrix[0][0]\n",
        "FP = conf_matrix[0][1]\n",
        "FN = conf_matrix[1][0]\n",
        "TP = conf_matrix[1][1]\n",
        "specificity = TN / (TN + FP)\n",
        "print(f\"Specificity: {specificity}\")\n",
        "print(conf_matrix)"
      ]
    },
    {
      "cell_type": "markdown",
      "id": "bVE834NYFBXq",
      "metadata": {
        "id": "bVE834NYFBXq"
      },
      "source": [
        "## K best\n"
      ]
    },
    {
      "cell_type": "code",
      "execution_count": null,
      "id": "J6eqNomLVNWH",
      "metadata": {
        "colab": {
          "base_uri": "https://localhost:8080/"
        },
        "id": "J6eqNomLVNWH",
        "outputId": "a0fbd066-bbc2-4155-8d2c-b0e86955ada3"
      },
      "outputs": [
        {
          "name": "stdout",
          "output_type": "stream",
          "text": [
            "Best Hyperparameters: {'C': 10, 'gamma': 0.1}\n",
            "Accuracy: 0.9\n",
            "Accuracy: 0.9\n",
            "Precision: 0.9\n",
            "Recall: 0.9\n",
            "Specificity: 0.9\n",
            "[[18  2]\n",
            " [ 2 18]]\n"
          ]
        }
      ],
      "source": [
        "# apply SelectKBest\n",
        "# Split the data into training and test sets\n",
        "#X_train, X_test, y_train, y_test = train_test_split(normalized_data, normalized_labels, test_size=0.2, random_state=42)\n",
        "\n",
        "# Perform feature selection\n",
        "k = 50  # Choose the number of top features you want to select\n",
        "selector = SelectKBest(score_func=mutual_info_classif, k=k) # try different score_func\n",
        "X_train_selected = selector.fit_transform(X_train, y_train)\n",
        "X_test_selected = selector.transform(X_test)\n",
        "\n",
        "#Define an SVM classifier\n",
        "svm_classifier = SVC()\n",
        "\n",
        "# Define hyperparameters to tune\n",
        "param_grid = {\n",
        "    'C': [0.1, 1, 10, 100],  # Regularization parameter\n",
        "    'gamma': [1, 0.1, 0.01, 0.001, 0.0001],  # Example range for gamma\n",
        "}\n",
        "\n",
        "# Perform grid search with cross-validation\n",
        "folds = KFold(n_splits = 5, shuffle = True, random_state = 100)\n",
        "\n",
        "grid_search = GridSearchCV(estimator=svm_classifier, param_grid=param_grid, cv=folds)\n",
        "grid_search.fit(X_train_selected, y_train)\n",
        "\n",
        "# Get the best hyperparameters\n",
        "best_params = grid_search.best_params_\n",
        "print(\"Best Hyperparameters:\", best_params)\n",
        "\n",
        "# Evaluate the best model\n",
        "best_svm_classifier = grid_search.best_estimator_\n",
        "accuracy = best_svm_classifier.score(X_test_selected, y_test)\n",
        "print(\"Accuracy:\", accuracy)\n",
        "\n",
        "# Get the prediction results\n",
        "y_pred = best_svm_classifier.predict(X_test_selected)\n",
        "\n",
        "accuracy = accuracy_score(y_test, y_pred)\n",
        "precision = precision_score(y_test, y_pred, average='weighted')\n",
        "recall = recall_score(y_test, y_pred, average='weighted')\n",
        "\n",
        "print(\"Accuracy:\", accuracy)\n",
        "print(\"Precision:\", precision)\n",
        "print(\"Recall:\", recall)\n",
        "\n",
        "# Calculating specificity from the confusion matrix\n",
        "conf_matrix = confusion_matrix(y_test, y_pred)\n",
        "TN = conf_matrix[0][0]\n",
        "FP = conf_matrix[0][1]\n",
        "FN = conf_matrix[1][0]\n",
        "TP = conf_matrix[1][1]\n",
        "specificity = TN / (TN + FP)\n",
        "print(f\"Specificity: {specificity}\")\n",
        "print(conf_matrix)"
      ]
    },
    {
      "cell_type": "code",
      "execution_count": null,
      "id": "zJJrPUYceEnE",
      "metadata": {
        "colab": {
          "base_uri": "https://localhost:8080/",
          "height": 927
        },
        "id": "zJJrPUYceEnE",
        "outputId": "a8513ba4-f623-478a-e0de-b316e7bb622f"
      },
      "outputs": [
        {
          "data": {
            "image/png": "[encoded data removed]",
            "text/plain": [
              "<Figure size 640x480 with 1 Axes>"
            ]
          },
          "metadata": {},
          "output_type": "display_data"
        },
        {
          "data": {
            "image/png": "[encoded data removed]",
            "text/plain": [
              "<Figure size 640x480 with 1 Axes>"
            ]
          },
          "metadata": {},
          "output_type": "display_data"
        }
      ],
      "source": [
        "import matplotlib.pyplot as plt\n",
        "from sklearn.metrics import precision_recall_curve, roc_curve, auc\n",
        "\n",
        "# Precision-Recall curve\n",
        "precision, recall, _ = precision_recall_curve(y_test, y_pred)\n",
        "auc_pr = auc(recall, precision)\n",
        "\n",
        "plt.figure()\n",
        "plt.step(recall, precision, color='#000080', alpha=0.2, where='post')  # Hex code for dark blue\n",
        "plt.fill_between(recall, precision, alpha=0.2, color='#000080')  # Hex code for dark blue\n",
        "\n",
        "plt.xlabel('Recall')\n",
        "plt.ylabel('Precision')\n",
        "plt.ylim([0.0, 1.05])\n",
        "plt.xlim([0.0, 1.0])\n",
        "plt.title(f'(AUC-PR={auc_pr:.2f})')\n",
        "plt.show()\n",
        "\n",
        "# ROC curve\n",
        "fpr, tpr, _ = roc_curve(y_test, y_pred)\n",
        "roc_auc = auc(fpr, tpr)\n",
        "plt.figure()\n",
        "plt.plot(fpr, tpr, color='darkblue', lw=2, label='ROC curve (area = %0.2f)' % roc_auc)\n",
        "plt.plot([0, 1], [0, 1], color='blue', lw=2, linestyle='--')\n",
        "plt.xlim([0.0, 1.0])\n",
        "plt.ylim([0.0, 1.05])\n",
        "plt.xlabel('False Positive Rate')\n",
        "plt.ylabel('True Positive Rate')\n",
        "plt.title(' (ROC) Curve')\n",
        "plt.legend(loc=\"lower right\")\n",
        "plt.show()"
      ]
    },
    {
      "cell_type": "markdown",
      "id": "gqGyvtt4Nm3k",
      "metadata": {
        "id": "gqGyvtt4Nm3k"
      },
      "source": [
        "# RANDOM FOREST\n"
      ]
    },
    {
      "cell_type": "code",
      "execution_count": null,
      "id": "gE-sgVyfNwPk",
      "metadata": {
        "colab": {
          "base_uri": "https://localhost:8080/"
        },
        "id": "gE-sgVyfNwPk",
        "outputId": "b9b2c2c2-e693-4445-a086-1d3fece0d4b4"
      },
      "outputs": [
        {
          "name": "stdout",
          "output_type": "stream",
          "text": [
            "Random Forest Classifier Performance:\n",
            "Accuracy: 0.95\n",
            "Precision: 0.95\n",
            "Recall: 0.95\n",
            "F1 Score: 0.9500000000000001\n",
            "Specificity: 0.9\n",
            "[[18  2]\n",
            " [ 2 18]]\n"
          ]
        }
      ],
      "source": [
        "from sklearn.ensemble import RandomForestClassifier\n",
        "\n",
        "# Instantiate RandomForestClassifier with desired parameters\n",
        "rf_classifier = RandomForestClassifier(n_estimators=100, random_state=42)\n",
        "\n",
        "# Fit the RandomForestClassifier on the cleaned training data and labels\n",
        "rf_classifier.fit(X_train_cleaned, y_train_cleaned)\n",
        "\n",
        "# Use the trained RandomForestClassifier to make predictions on the cleaned test data\n",
        "y_pred_rf = rf_classifier.predict(X_test)\n",
        "\n",
        "# Evaluate the performance of the model using appropriate metrics\n",
        "accuracy_rf = accuracy_score(y_test, y_pred_rf)\n",
        "precision_rf = precision_score(y_test, y_pred_rf)\n",
        "recall_rf = recall_score(y_test, y_pred_rf)\n",
        "f1_rf = f1_score(y_test, y_pred_rf)\n",
        "\n",
        "print(\"Random Forest Classifier Performance:\")\n",
        "print(\"Accuracy:\", accuracy_rf)\n",
        "print(\"Precision:\", precision_rf)\n",
        "print(\"Recall:\", recall_rf)\n",
        "print(\"F1 Score:\", f1_rf)\n",
        "\n",
        "\n",
        "# Calculating specificity from the confusion matrix\n",
        "conf_matrix = confusion_matrix(y_test, y_pred)\n",
        "TN = conf_matrix[0][0]\n",
        "FP = conf_matrix[0][1]\n",
        "FN = conf_matrix[1][0]\n",
        "TP = conf_matrix[1][1]\n",
        "specificity = TN / (TN + FP)\n",
        "print(f\"Specificity: {specificity}\")\n",
        "print(conf_matrix)\n"
      ]
    },
    {
      "cell_type": "markdown",
      "id": "wbl6x2gAY6vr",
      "metadata": {
        "id": "wbl6x2gAY6vr"
      },
      "source": [
        "###PCA for random forest\n"
      ]
    },
    {
      "cell_type": "markdown",
      "id": "Tlp9TKWcY6tn",
      "metadata": {
        "id": "Tlp9TKWcY6tn"
      },
      "source": []
    },
    {
      "cell_type": "code",
      "execution_count": null,
      "id": "B5nkf2ZZRe8A",
      "metadata": {
        "colab": {
          "base_uri": "https://localhost:8080/"
        },
        "id": "B5nkf2ZZRe8A",
        "outputId": "df6376cf-f4cd-4859-d5a7-7d2b8e740ab5"
      },
      "outputs": [
        {
          "name": "stdout",
          "output_type": "stream",
          "text": [
            "Accuracy: 0.8\n",
            "Precision: 1.0\n",
            "Recall: 0.6\n",
            "F1 Score: 0.7499999999999999\n",
            "Specificity: 1.0\n",
            "[[20  0]\n",
            " [ 8 12]]\n"
          ]
        }
      ],
      "source": [
        "from sklearn.decomposition import PCA\n",
        "from sklearn.ensemble import RandomForestClassifier\n",
        "from sklearn.model_selection import GridSearchCV\n",
        "from sklearn.metrics import accuracy_score, precision_score, recall_score, f1_score\n",
        "\n",
        "# 1. Initialize and fit PCA on the training data\n",
        "pca = PCA(n_components=0.95)\n",
        "pca.fit(X_train_cleaned)\n",
        "\n",
        "# 2. Transform both training and test data\n",
        "X_train_pca = pca.transform(X_train_cleaned)\n",
        "X_test_pca = pca.transform(X_test)\n",
        "\n",
        "# 3. Define the parameter grid for GridSearchCV\n",
        "\n",
        "  # Define the parameter grid for GridSearchCV\n",
        "param_grid = {\n",
        "    'n_estimators': [50, 100, 200],  # Number of trees in the forest\n",
        "    'max_depth': [10, 20, 30],  # Maximum depth of the tree\n",
        "    'criterion': ['gini', 'entropy', 'log_loss'],\n",
        "    'max_features': ['sqrt', 'log2'],\n",
        "}\n",
        "\n",
        "# 4. Initialize GridSearchCV\n",
        "rf_classifier = RandomForestClassifier()\n",
        "grid_search = GridSearchCV(rf_classifier, param_grid, cv=5, scoring='accuracy')\n",
        "\n",
        "# 5. Fit GridSearchCV on the training data\n",
        "grid_search.fit(X_train_pca, y_train_cleaned)\n",
        "\n",
        "# 6. Use the best estimator from GridSearchCV to predict on the test data\n",
        "y_pred = grid_search.predict(X_test_pca)\n",
        "\n",
        "# 7. Evaluate the performance of the model\n",
        "accuracy = accuracy_score(y_test, y_pred)\n",
        "precision = precision_score(y_test, y_pred)\n",
        "recall = recall_score(y_test, y_pred)\n",
        "f1 = f1_score(y_test, y_pred)\n",
        "\n",
        "# Print evaluation metrics\n",
        "print(\"Accuracy:\", accuracy)\n",
        "print(\"Precision:\", precision)\n",
        "print(\"Recall:\", recall)\n",
        "print(\"F1 Score:\", f1)\n",
        "\n",
        "# Calculating specificity from the confusion matrix\n",
        "conf_matrix = confusion_matrix(y_test, y_pred)\n",
        "TN = conf_matrix[0][0]\n",
        "FP = conf_matrix[0][1]\n",
        "FN = conf_matrix[1][0]\n",
        "TP = conf_matrix[1][1]\n",
        "specificity = TN / (TN + FP)\n",
        "print(f\"Specificity: {specificity}\")\n",
        "print(conf_matrix)\n"
      ]
    },
    {
      "cell_type": "code",
      "execution_count": null,
      "id": "LPrqq0vQS3ou",
      "metadata": {
        "id": "LPrqq0vQS3ou"
      },
      "outputs": [],
      "source": [
        "\n",
        "  # Best hyperparameters\n",
        "  best_params = grid_search.best_params_\n",
        "  print(\"Best Hyperparameters:\", best_params)"
      ]
    },
    {
      "cell_type": "markdown",
      "id": "9k96VudMZAio",
      "metadata": {
        "id": "9k96VudMZAio"
      },
      "source": [
        "##Select K best for random"
      ]
    },
    {
      "cell_type": "code",
      "execution_count": null,
      "id": "XkbUybt_PfvK",
      "metadata": {
        "colab": {
          "base_uri": "https://localhost:8080/"
        },
        "id": "XkbUybt_PfvK",
        "outputId": "60883d0f-7bd3-408b-8d60-8dd9b617d380"
      },
      "outputs": [
        {
          "name": "stdout",
          "output_type": "stream",
          "text": [
            "Accuracy: 0.95\n",
            "Precision: 0.95\n",
            "Recall: 0.95\n",
            "F1 Score: 0.9500000000000001\n",
            "Specificity: 0.95\n",
            "[[19  1]\n",
            " [ 1 19]]\n"
          ]
        }
      ],
      "source": [
        "from sklearn.feature_selection import SelectKBest, chi2\n",
        "from sklearn.ensemble import RandomForestClassifier\n",
        "from sklearn.model_selection import GridSearchCV\n",
        "from sklearn.metrics import accuracy_score, precision_score, recall_score, f1_score\n",
        "# Perform feature selection\n",
        "k = 50  # Choose the number of top features you want to select\n",
        "selector = SelectKBest(score_func=mutual_info_classif, k=k) # try different score_func\n",
        "X_train_selected = selector.fit_transform(X_train_cleaned, y_train_cleaned)\n",
        "X_test_selected = selector.transform(X_test)\n",
        "\n",
        "\n",
        "\n",
        "# 3. Define the parameter grid for GridSearchCV\n",
        "param_grid = {\n",
        "    'n_estimators': [50, 100, 200],\n",
        "    'max_depth': [10, 20, 30],\n",
        "    'criterion': ['gini', 'entropy'],\n",
        "    'max_features': ['sqrt', 'log2']\n",
        "}\n",
        "\n",
        "# 4. Initialize GridSearchCV\n",
        "rf_classifier = RandomForestClassifier()\n",
        "grid_search = GridSearchCV(rf_classifier, param_grid, cv=5, scoring='accuracy')\n",
        "\n",
        "# 5. Fit GridSearchCV on the training data\n",
        "grid_search.fit(X_train_selected, y_train_cleaned)\n",
        "\n",
        "# 6. Use the best estimator from GridSearchCV to predict on the test data\n",
        "y_pred = grid_search.predict(X_test_selected)\n",
        "\n",
        "# 7. Evaluate the performance of the model\n",
        "accuracy = accuracy_score(y_test, y_pred)\n",
        "precision = precision_score(y_test, y_pred)\n",
        "recall = recall_score(y_test, y_pred)\n",
        "f1 = f1_score(y_test, y_pred)\n",
        "\n",
        "# Print evaluation metrics\n",
        "print(\"Accuracy:\", accuracy)\n",
        "print(\"Precision:\", precision)\n",
        "print(\"Recall:\", recall)\n",
        "print(\"F1 Score:\", f1)\n",
        "# Calculating specificity from the confusion matrix\n",
        "conf_matrix = confusion_matrix(y_test, y_pred)\n",
        "TN = conf_matrix[0][0]\n",
        "FP = conf_matrix[0][1]\n",
        "FN = conf_matrix[1][0]\n",
        "TP = conf_matrix[1][1]\n",
        "specificity = TN / (TN + FP)\n",
        "print(f\"Specificity: {specificity}\")\n",
        "print(conf_matrix)"
      ]
    },
    {
      "cell_type": "code",
      "execution_count": null,
      "id": "DhA3YISuWlsw",
      "metadata": {
        "colab": {
          "base_uri": "https://localhost:8080/"
        },
        "id": "DhA3YISuWlsw",
        "outputId": "a7efff5a-c08e-4db7-dd91-b5c151d6e6e1"
      },
      "outputs": [
        {
          "name": "stdout",
          "output_type": "stream",
          "text": [
            "Best Parameters: {'criterion': 'gini', 'max_depth': 20, 'max_features': 'log2', 'n_estimators': 200}\n"
          ]
        }
      ],
      "source": [
        "print(\"Best Parameters:\", grid_search.best_params_)"
      ]
    },
    {
      "cell_type": "code",
      "execution_count": null,
      "id": "_PH5r0ZMybv0",
      "metadata": {
        "colab": {
          "base_uri": "https://localhost:8080/",
          "height": 927
        },
        "id": "_PH5r0ZMybv0",
        "outputId": "bcaf3f42-e6cb-4263-c6ef-d065699ea9af"
      },
      "outputs": [
        {
          "data": {
            "image/png": "[encoded data removed]",
            "text/plain": [
              "<Figure size 640x480 with 1 Axes>"
            ]
          },
          "metadata": {},
          "output_type": "display_data"
        },
        {
          "data": {
            "image/png": "[encoded data removed]",
            "text/plain": [
              "<Figure size 640x480 with 1 Axes>"
            ]
          },
          "metadata": {},
          "output_type": "display_data"
        }
      ],
      "source": [
        "# Precision-Recall curve\n",
        "precision, recall, _ = precision_recall_curve(y_test, y_pred)\n",
        "auc_pr = auc(recall, precision)\n",
        "\n",
        "plt.figure()\n",
        "plt.step(recall, precision, color='#000080', alpha=0.2, where='post')  # Hex code for dark blue\n",
        "plt.fill_between(recall, precision, alpha=0.2, color='#000080')  # Hex code for dark blue\n",
        "\n",
        "plt.xlabel('Recall')\n",
        "plt.ylabel('Precision')\n",
        "plt.ylim([0.0, 1.05])\n",
        "plt.xlim([0.0, 1.0])\n",
        "plt.title(f'(AUC-PR={auc_pr:.2f})')\n",
        "plt.show()\n",
        "\n",
        "# ROC curve\n",
        "fpr, tpr, _ = roc_curve(y_test, y_pred)\n",
        "roc_auc = auc(fpr, tpr)\n",
        "plt.figure()\n",
        "plt.plot(fpr, tpr, color='darkblue', lw=2, label='ROC curve (area = %0.2f)' % roc_auc)\n",
        "plt.plot([0, 1], [0, 1], color='blue', lw=2, linestyle='--')\n",
        "plt.xlim([0.0, 1.0])\n",
        "plt.ylim([0.0, 1.05])\n",
        "plt.xlabel('False Positive Rate')\n",
        "plt.ylabel('True Positive Rate')\n",
        "plt.title(' (ROC) Curve')\n",
        "plt.legend(loc=\"lower right\")\n",
        "plt.show()"
      ]
    },
    {
      "cell_type": "code",
      "execution_count": null,
      "id": "9lpMAjNnUUaS",
      "metadata": {
        "id": "9lpMAjNnUUaS"
      },
      "outputs": [],
      "source": [
        "from sklearn.feature_selection import SelectKBest, chi2\n",
        "from sklearn.ensemble import RandomForestClassifier\n",
        "from sklearn.model_selection import GridSearchCV\n",
        "from sklearn.metrics import accuracy_score, precision_score, recall_score, f1_score\n",
        "# Perform feature selection\n",
        "k = 100  # Choose the number of top features you want to select\n",
        "selector = SelectKBest(score_func=mutual_info_classif, k=k) # try different score_func\n",
        "X_train_selected = selector.fit_transform(X_train_cleaned, y_train_cleaned)\n",
        "X_test_selected = selector.transform(X_test)\n",
        "\n",
        "\n",
        "\n",
        "# 3. Define the parameter grid for GridSearchCV\n",
        "param_grid = {\n",
        "    'n_estimators': [50, 100, 200],\n",
        "    'max_depth': [10, 20, 30],\n",
        "    'criterion': ['gini', 'entropy'],\n",
        "    'max_features': ['sqrt', 'log2']\n",
        "}\n",
        "\n",
        "# 4. Initialize GridSearchCV\n",
        "rf_classifier = RandomForestClassifier()\n",
        "grid_search = GridSearchCV(rf_classifier, param_grid, cv=5, scoring='accuracy')\n",
        "\n",
        "# 5. Fit GridSearchCV on the training data\n",
        "grid_search.fit(X_train_selected, y_train_cleaned)\n",
        "\n",
        "# 6. Use the best estimator from GridSearchCV to predict on the test data\n",
        "y_pred = grid_search.predict(X_test_selected)\n",
        "\n",
        "# 7. Evaluate the performance of the model\n",
        "accuracy = accuracy_score(y_test, y_pred)\n",
        "precision = precision_score(y_test, y_pred)\n",
        "recall = recall_score(y_test, y_pred)\n",
        "f1 = f1_score(y_test, y_pred)\n",
        "\n",
        "# Print evaluation metrics\n",
        "print(\"Accuracy:\", accuracy)\n",
        "print(\"Precision:\", precision)\n",
        "print(\"Recall:\", recall)\n",
        "print(\"F1 Score:\", f1)\n",
        "# Calculating specificity from the confusion matrix\n",
        "conf_matrix = confusion_matrix(y_test, y_pred)\n",
        "TN = conf_matrix[0][0]\n",
        "FP = conf_matrix[0][1]\n",
        "FN = conf_matrix[1][0]\n",
        "TP = conf_matrix[1][1]\n",
        "specificity = TN / (TN + FP)\n",
        "print(f\"Specificity: {specificity}\")"
      ]
    },
    {
      "cell_type": "code",
      "execution_count": null,
      "id": "zL1Nx2G9oOWS",
      "metadata": {
        "colab": {
          "base_uri": "https://localhost:8080/",
          "height": 618
        },
        "id": "zL1Nx2G9oOWS",
        "outputId": "37e5509c-d8cd-4b6c-b465-df0860d61465"
      },
      "outputs": [
        {
          "name": "stdout",
          "output_type": "stream",
          "text": [
            "Confusion matrix:\n",
            " [[ 95   5]\n",
            " [  0 100]]\n"
          ]
        },
        {
          "data": {
            "image/png": "[encoded data removed]",
            "text/plain": [
              "<Figure size 800x600 with 2 Axes>"
            ]
          },
          "metadata": {},
          "output_type": "display_data"
        }
      ],
      "source": [
        "\n",
        "print(\"Confusion matrix:\\n\", conf_matrix)\n",
        "\n",
        "import seaborn as sns\n",
        "import matplotlib.pyplot as plt\n",
        "\n",
        "plt.figure(figsize=(8, 6))\n",
        "sns.heatmap(conf_matrix, annot=True, cmap='Blues', fmt='g')\n",
        "plt.xlabel('Predicted labels')\n",
        "plt.ylabel('True labels')\n",
        "plt.title('Confusion Matrix (Percentages)')\n",
        "plt.show()\n",
        "\n"
      ]
    },
    {
      "cell_type": "code",
      "execution_count": null,
      "id": "9m6WUMKkvxna",
      "metadata": {
        "id": "9m6WUMKkvxna"
      },
      "outputs": [],
      "source": [
        "print(\"Best Parameters:\", grid_search.best_params_)"
      ]
    },
    {
      "cell_type": "code",
      "execution_count": null,
      "id": "NhC0_FY8WpD3",
      "metadata": {
        "colab": {
          "base_uri": "https://localhost:8080/"
        },
        "id": "NhC0_FY8WpD3",
        "outputId": "11e0c0fd-fd9f-4813-91d8-c87d7f0beeb7"
      },
      "outputs": [
        {
          "name": "stdout",
          "output_type": "stream",
          "text": [
            "Accuracy: 1.0\n",
            "Precision: 1.0\n",
            "Recall: 1.0\n",
            "F1 Score: 1.0\n",
            "Specificity: 1.0\n",
            "[[20  0]\n",
            " [ 0 20]]\n"
          ]
        }
      ],
      "source": [
        "from sklearn.feature_selection import SelectKBest, chi2\n",
        "from sklearn.ensemble import RandomForestClassifier\n",
        "from sklearn.model_selection import GridSearchCV\n",
        "from sklearn.metrics import accuracy_score, precision_score, recall_score, f1_score\n",
        "# Perform feature selection\n",
        "k = 1000  # Choose the number of top features you want to select\n",
        "selector = SelectKBest(score_func=mutual_info_classif, k=k) # try different score_func\n",
        "X_train_selected = selector.fit_transform(X_train_cleaned, y_train_cleaned)\n",
        "X_test_selected = selector.transform(X_test)\n",
        "\n",
        "\n",
        "\n",
        "# 3. Define the parameter grid for GridSearchCV\n",
        "param_grid = {\n",
        "    'n_estimators': [50, 100, 200],\n",
        "    'max_depth': [10, 20, 30],\n",
        "    'criterion': ['gini', 'entropy'],\n",
        "    'max_features': ['sqrt', 'log2']\n",
        "}\n",
        "\n",
        "# 4. Initialize GridSearchCV\n",
        "rf_classifier = RandomForestClassifier()\n",
        "grid_search = GridSearchCV(rf_classifier, param_grid, cv=5, scoring='accuracy')\n",
        "\n",
        "# 5. Fit GridSearchCV on the training data\n",
        "grid_search.fit(X_train_selected, y_train_cleaned)\n",
        "\n",
        "# 6. Use the best estimator from GridSearchCV to predict on the test data\n",
        "y_pred = grid_search.predict(X_test_selected)\n",
        "\n",
        "# 7. Evaluate the performance of the model\n",
        "accuracy = accuracy_score(y_test, y_pred)\n",
        "precision = precision_score(y_test, y_pred)\n",
        "recall = recall_score(y_test, y_pred)\n",
        "f1 = f1_score(y_test, y_pred)\n",
        "\n",
        "# Print evaluation metrics\n",
        "print(\"Accuracy:\", accuracy)\n",
        "print(\"Precision:\", precision)\n",
        "print(\"Recall:\", recall)\n",
        "print(\"F1 Score:\", f1)\n",
        "# Calculating specificity from the confusion matrix\n",
        "conf_matrix = confusion_matrix(y_test, y_pred)\n",
        "TN = conf_matrix[0][0]\n",
        "FP = conf_matrix[0][1]\n",
        "FN = conf_matrix[1][0]\n",
        "TP = conf_matrix[1][1]\n",
        "specificity = TN / (TN + FP)\n",
        "print(f\"Specificity: {specificity}\")\n",
        "print(conf_matrix)"
      ]
    },
    {
      "cell_type": "code",
      "execution_count": null,
      "id": "KSlraDsrW-YK",
      "metadata": {
        "id": "KSlraDsrW-YK"
      },
      "outputs": [],
      "source": [
        "from sklearn.feature_selection import SelectKBest, chi2\n",
        "from sklearn.ensemble import RandomForestClassifier\n",
        "from sklearn.model_selection import GridSearchCV\n",
        "from sklearn.metrics import accuracy_score, precision_score, recall_score, f1_score\n",
        "# Perform feature selection\n",
        "k = 1  # Choose the number of top features you want to select\n",
        "selector = SelectKBest(score_func=mutual_info_classif, k=k) # try different score_func\n",
        "X_train_selected = selector.fit_transform(X_train_cleaned, y_train_cleaned)\n",
        "X_test_selected = selector.transform(X_test)\n",
        "\n",
        "\n",
        "\n",
        "# 3. Define the parameter grid for GridSearchCV\n",
        "param_grid = {\n",
        "    'n_estimators': [50, 100, 200],\n",
        "    'max_depth': [10, 20, 30],\n",
        "    'criterion': ['gini', 'entropy'],\n",
        "    'max_features': ['sqrt', 'log2']\n",
        "}\n",
        "\n",
        "# 4. Initialize GridSearchCV\n",
        "rf_classifier = RandomForestClassifier()\n",
        "grid_search = GridSearchCV(rf_classifier, param_grid, cv=5, scoring='accuracy')\n",
        "\n",
        "# 5. Fit GridSearchCV on the training data\n",
        "grid_search.fit(X_train_selected, y_train_cleaned)\n",
        "\n",
        "# 6. Use the best estimator from GridSearchCV to predict on the test data\n",
        "y_pred = grid_search.predict(X_test_selected)\n",
        "\n",
        "# 7. Evaluate the performance of the model\n",
        "accuracy = accuracy_score(y_test, y_pred)\n",
        "precision = precision_score(y_test, y_pred)\n",
        "recall = recall_score(y_test, y_pred)\n",
        "f1 = f1_score(y_test, y_pred)\n",
        "\n",
        "# Print evaluation metrics\n",
        "print(\"Accuracy:\", accuracy)\n",
        "print(\"Precision:\", precision)\n",
        "print(\"Recall:\", recall)\n",
        "print(\"F1 Score:\", f1)\n",
        "# Calculating specificity from the confusion matrix\n",
        "conf_matrix = confusion_matrix(y_test, y_pred)\n",
        "TN = conf_matrix[0][0]\n",
        "FP = conf_matrix[0][1]\n",
        "FN = conf_matrix[1][0]\n",
        "TP = conf_matrix[1][1]\n",
        "specificity = TN / (TN + FP)\n",
        "print(f\"Specificity: {specificity}\")\n",
        "print(conf_matrix)"
      ]
    }
  ],
  "metadata": {
    "colab": {
      "gpuType": "T4",
      "provenance": []
    },
    "kernelspec": {
      "display_name": "Python 3",
      "name": "python3"
    },
    "language_info": {
      "codemirror_mode": {
        "name": "ipython",
        "version": 3
      },
      "file_extension": ".py",
      "mimetype": "text/x-python",
      "name": "python",
      "nbconvert_exporter": "python",
      "pygments_lexer": "ipython3",
      "version": "3.9.13"
    }
  },
  "nbformat": 4,
  "nbformat_minor": 5
}
